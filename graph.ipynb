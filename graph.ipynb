{
 "cells": [
  {
   "cell_type": "code",
   "execution_count": 1,
   "metadata": {
    "execution": {
     "iopub.execute_input": "2020-10-30T11:13:48.073592Z",
     "iopub.status.busy": "2020-10-30T11:13:48.072832Z",
     "iopub.status.idle": "2020-10-30T11:15:20.417825Z",
     "shell.execute_reply": "2020-10-30T11:15:20.418333Z"
    },
    "papermill": {
     "duration": 92.353182,
     "end_time": "2020-10-30T11:15:20.418622",
     "exception": false,
     "start_time": "2020-10-30T11:13:48.065440",
     "status": "completed"
    },
    "tags": []
   },
   "outputs": [
    {
     "data": {
      "text/plain": [
       "<AxesSubplot:>"
      ]
     },
     "execution_count": 1,
     "metadata": {},
     "output_type": "execute_result"
    },
    {
     "data": {
      "image/png": "[encoded data removed]",
      "text/plain": [
       "<Figure size 432x288 with 1 Axes>"
      ]
     },
     "metadata": {
      "needs_background": "light"
     },
     "output_type": "display_data"
    }
   ],
   "source": [
    "import pandas as pd\n",
    "import numpy as np\n",
    "import matplotlib.pyplot as plt\n",
    "\n",
    "material = pd.read_csv(\"homepage.csv\")\n",
    "\n",
    "material[['male','female']].plot(kind='bar', stacked=True)"
   ]
  }
 ],
 "metadata": {
  "kernelspec": {
   "display_name": "Python 3",
   "language": "python",
   "name": "python3"
  },
  "language_info": {
   "codemirror_mode": {
    "name": "ipython",
    "version": 3
   },
   "file_extension": ".py",
   "mimetype": "text/x-python",
   "name": "python",
   "nbconvert_exporter": "python",
   "pygments_lexer": "ipython3",
   "version": "3.9.0"
  },
  "papermill": {
   "duration": 95.281705,
   "end_time": "2020-10-30T11:15:22.332506",
   "environment_variables": {},
   "exception": null,
   "input_path": "graph.ipynb",
   "output_path": "graph.ipynb",
   "parameters": {},
   "start_time": "2020-10-30T11:13:47.050801",
   "version": "2.1.0"
  }
 },
 "nbformat": 4,
 "nbformat_minor": 2
}