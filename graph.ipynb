{
 "cells": [
  {
   "cell_type": "code",
   "execution_count": 1,
   "id": "breathing-walker",
   "metadata": {
    "execution": {
     "iopub.execute_input": "2021-06-26T03:23:41.450872Z",
     "iopub.status.busy": "2021-06-26T03:23:41.450278Z",
     "iopub.status.idle": "2021-06-26T03:25:59.343968Z",
     "shell.execute_reply": "2021-06-26T03:25:59.344470Z"
    },
    "papermill": {
     "duration": 137.906885,
     "end_time": "2021-06-26T03:25:59.344766",
     "exception": false,
     "start_time": "2021-06-26T03:23:41.437881",
     "status": "completed"
    },
    "tags": []
   },
   "outputs": [
    {
     "data": {
      "text/plain": [
       "<AxesSubplot:>"
      ]
     },
     "execution_count": 1,
     "metadata": {},
     "output_type": "execute_result"
    },
    {
     "data": {
      "image/png": "[encoded data removed]",
      "text/plain": [
       "<Figure size 432x288 with 1 Axes>"
      ]
     },
     "metadata": {
      "needs_background": "light"
     },
     "output_type": "display_data"
    }
   ],
   "source": [
    "import pandas as pd\n",
    "import numpy as np\n",
    "import matplotlib.pyplot as plt\n",
    "\n",
    "material = pd.read_csv(\"homepage.csv\")\n",
    "\n",
    "material[['male','female']].plot(kind='bar', stacked=True)"
   ]
  }
 ],
 "metadata": {
  "kernelspec": {
   "display_name": "Python 3",
   "language": "python",
   "name": "python3"
  },
  "language_info": {
   "codemirror_mode": {
    "name": "ipython",
    "version": 3
   },
   "file_extension": ".py",
   "mimetype": "text/x-python",
   "name": "python",
   "nbconvert_exporter": "python",
   "pygments_lexer": "ipython3",
   "version": "3.9.5"
  },
  "papermill": {
   "duration": 142.280956,
   "end_time": "2021-06-26T03:26:02.709493",
   "environment_variables": {},
   "exception": null,
   "input_path": "graph.ipynb",
   "output_path": "graph.ipynb",
   "parameters": {},
   "start_time": "2021-06-26T03:23:40.428537",
   "version": "2.1.0"
  }
 },
 "nbformat": 4,
 "nbformat_minor": 5
}