{
 "cells": [
  {
   "cell_type": "code",
   "execution_count": 1,
   "metadata": {
    "execution": {
     "iopub.execute_input": "2020-06-30T10:10:28.097355Z",
     "iopub.status.busy": "2020-06-30T10:10:28.096779Z",
     "iopub.status.idle": "2020-06-30T10:10:53.020880Z",
     "shell.execute_reply": "2020-06-30T10:10:53.020341Z"
    },
    "papermill": {
     "duration": 24.931668,
     "end_time": "2020-06-30T10:10:53.021035",
     "exception": false,
     "start_time": "2020-06-30T10:10:28.089367",
     "status": "completed"
    },
    "tags": []
   },
   "outputs": [
    {
     "data": {
      "text/plain": [
       "<matplotlib.axes._subplots.AxesSubplot at 0x7fdc1216cdf0>"
      ]
     },
     "execution_count": 1,
     "metadata": {},
     "output_type": "execute_result"
    },
    {
     "data": {
      "image/png": "[encoded data removed]",
      "text/plain": [
       "<Figure size 432x288 with 1 Axes>"
      ]
     },
     "metadata": {
      "needs_background": "light"
     },
     "output_type": "display_data"
    }
   ],
   "source": [
    "import pandas as pd\n",
    "import numpy as np\n",
    "import matplotlib.pyplot as plt\n",
    "\n",
    "material = pd.read_csv(\"homepage.csv\")\n",
    "\n",
    "material[['male','female']].plot(kind='bar', stacked=True)"
   ]
  }
 ],
 "metadata": {
  "kernelspec": {
   "display_name": "Python 3",
   "language": "python",
   "name": "python3"
  },
  "language_info": {
   "codemirror_mode": {
    "name": "ipython",
    "version": 3
   },
   "file_extension": ".py",
   "mimetype": "text/x-python",
   "name": "python",
   "nbconvert_exporter": "python",
   "pygments_lexer": "ipython3",
   "version": "3.8.3"
  },
  "papermill": {
   "duration": 27.283245,
   "end_time": "2020-06-30T10:10:54.334657",
   "environment_variables": {},
   "exception": null,
   "input_path": "graph.ipynb",
   "output_path": "graph.ipynb",
   "parameters": {},
   "start_time": "2020-06-30T10:10:27.051412",
   "version": "2.1.0"
  }
 },
 "nbformat": 4,
 "nbformat_minor": 2
}